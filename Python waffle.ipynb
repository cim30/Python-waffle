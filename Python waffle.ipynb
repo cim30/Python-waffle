{
 "cells": [
  {
   "cell_type": "code",
   "execution_count": 2,
   "id": "1faa2125",
   "metadata": {},
   "outputs": [
    {
     "name": "stdout",
     "output_type": "stream",
     "text": [
      "Collecting pywaffle\n",
      "  Downloading pywaffle-0.6.4-py2.py3-none-any.whl (565 kB)\n",
      "Requirement already satisfied: matplotlib in c:\\users\\cim_3\\anaconda3\\lib\\site-packages (from pywaffle) (3.3.4)\n",
      "Requirement already satisfied: cycler>=0.10 in c:\\users\\cim_3\\anaconda3\\lib\\site-packages (from matplotlib->pywaffle) (0.10.0)\n",
      "Requirement already satisfied: pillow>=6.2.0 in c:\\users\\cim_3\\anaconda3\\lib\\site-packages (from matplotlib->pywaffle) (8.2.0)\n",
      "Requirement already satisfied: pyparsing!=2.0.4,!=2.1.2,!=2.1.6,>=2.0.3 in c:\\users\\cim_3\\anaconda3\\lib\\site-packages (from matplotlib->pywaffle) (2.4.7)\n",
      "Requirement already satisfied: python-dateutil>=2.1 in c:\\users\\cim_3\\anaconda3\\lib\\site-packages (from matplotlib->pywaffle) (2.8.1)\n",
      "Requirement already satisfied: numpy>=1.15 in c:\\users\\cim_3\\anaconda3\\lib\\site-packages (from matplotlib->pywaffle) (1.19.2)\n",
      "Requirement already satisfied: kiwisolver>=1.0.1 in c:\\users\\cim_3\\anaconda3\\lib\\site-packages (from matplotlib->pywaffle) (1.3.1)\n",
      "Requirement already satisfied: six in c:\\users\\cim_3\\anaconda3\\lib\\site-packages (from cycler>=0.10->matplotlib->pywaffle) (1.15.0)\n",
      "Installing collected packages: pywaffle\n",
      "Successfully installed pywaffle-0.6.4\n",
      "Note: you may need to restart the kernel to use updated packages.\n"
     ]
    }
   ],
   "source": [
    "pip install pywaffle"
   ]
  },
  {
   "cell_type": "code",
   "execution_count": 3,
   "id": "9be09181",
   "metadata": {},
   "outputs": [
    {
     "data": {
      "image/png": "[encoded data removed]",
      "text/plain": [
       "<Waffle size 432x288 with 1 Axes>"
      ]
     },
     "metadata": {},
     "output_type": "display_data"
    }
   ],
   "source": [
    "import matplotlib.pyplot as plt\n",
    "from pywaffle import Waffle\n",
    "\n",
    "data = {'Democratic': 48, 'Republican': 46, 'Libertarian': 3}\n",
    "fig = plt.figure(\n",
    "    FigureClass=Waffle, \n",
    "    rows=5, \n",
    "    values=data, \n",
    "    colors=(\"#983D3D\", \"#232066\", \"#DCB732\"),\n",
    "    title={'label': 'Vote Percentage in 2016 US Presidential Election', 'loc': 'left'},\n",
    "    labels=[\"{0} ({1}%)\".format(k, v) for k, v in data.items()],\n",
    "    legend={'loc': 'lower left', 'bbox_to_anchor': (0, -0.4), 'ncol': len(data), 'framealpha': 0},\n",
    "    figsize = ()\n",
    ")\n",
    "fig.gca().set_facecolor('#EEEEEE')\n",
    "fig.set_facecolor('#EEEEEE')\n",
    "plt.show()"
   ]
  }
 ],
 "metadata": {
  "kernelspec": {
   "display_name": "Python 3",
   "language": "python",
   "name": "python3"
  },
  "language_info": {
   "codemirror_mode": {
    "name": "ipython",
    "version": 3
   },
   "file_extension": ".py",
   "mimetype": "text/x-python",
   "name": "python",
   "nbconvert_exporter": "python",
   "pygments_lexer": "ipython3",
   "version": "3.8.8"
  }
 },
 "nbformat": 4,
 "nbformat_minor": 5
}
